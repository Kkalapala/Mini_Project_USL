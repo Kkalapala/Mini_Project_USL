{
 "cells": [
  {
   "cell_type": "markdown",
   "id": "9a88c6a3",
   "metadata": {},
   "source": [
    "# Week 4 Mini - Project: BBC NEWS CLASSIFICATION"
   ]
  },
  {
   "cell_type": "markdown",
   "id": "6bc643b3",
   "metadata": {},
   "source": [
    "## Part 1: Unsupervised Learning: Matrix Factorization Method"
   ]
  },
  {
   "cell_type": "markdown",
   "id": "90d9a678",
   "metadata": {},
   "source": [
    "### Introduction\n",
    "\n",
    "The dataset is part of the Kaggle Competition: BBC News Classification. It contains 2225 articles from BBC and each article is labeled under a specific category. There are five categories: business, entertainment, tech, sport and politics. The objective of this mini-project is to apply matrix factorization techniques on the training data and accurately predict the categories of the unseen test data."
   ]
  },
  {
   "cell_type": "code",
   "execution_count": 1,
   "id": "133c8b40",
   "metadata": {},
   "outputs": [],
   "source": [
    "import numpy as np \n",
    "import pandas as pd \n",
    "import matplotlib.pyplot as plt\n",
    "import seaborn as sns\n",
    "\n",
    "import itertools\n",
    "import math\n",
    "import re\n",
    "\n",
    "# Machine learning packages\n",
    "import nltk \n",
    "from sklearn import metrics\n",
    "from sklearn.model_selection import train_test_split\n",
    "from sklearn.feature_extraction.text import TfidfVectorizer\n",
    "from sklearn.decomposition import NMF"
   ]
  },
  {
   "cell_type": "code",
   "execution_count": 2,
   "id": "b5c05727",
   "metadata": {},
   "outputs": [],
   "source": [
    "bbc_train = pd.read_csv(\"C:/Users/venuk/Desktop/dtsa-5510/Mini/BBC News Train.csv\")\n",
    "bbc_test = pd.read_csv(\"C:/Users/venuk/Desktop/dtsa-5510/Mini/BBC News Test.csv\")"
   ]
  },
  {
   "cell_type": "code",
   "execution_count": 3,
   "id": "8cc61d96",
   "metadata": {},
   "outputs": [
    {
     "data": {
      "text/html": [
       "<div>\n",
       "<style scoped>\n",
       "    .dataframe tbody tr th:only-of-type {\n",
       "        vertical-align: middle;\n",
       "    }\n",
       "\n",
       "    .dataframe tbody tr th {\n",
       "        vertical-align: top;\n",
       "    }\n",
       "\n",
       "    .dataframe thead th {\n",
       "        text-align: right;\n",
       "    }\n",
       "</style>\n",
       "<table border=\"1\" class=\"dataframe\">\n",
       "  <thead>\n",
       "    <tr style=\"text-align: right;\">\n",
       "      <th></th>\n",
       "      <th>ArticleId</th>\n",
       "      <th>Text</th>\n",
       "      <th>Category</th>\n",
       "    </tr>\n",
       "  </thead>\n",
       "  <tbody>\n",
       "    <tr>\n",
       "      <th>0</th>\n",
       "      <td>1833</td>\n",
       "      <td>worldcom ex-boss launches defence lawyers defe...</td>\n",
       "      <td>business</td>\n",
       "    </tr>\n",
       "    <tr>\n",
       "      <th>1</th>\n",
       "      <td>154</td>\n",
       "      <td>german business confidence slides german busin...</td>\n",
       "      <td>business</td>\n",
       "    </tr>\n",
       "    <tr>\n",
       "      <th>2</th>\n",
       "      <td>1101</td>\n",
       "      <td>bbc poll indicates economic gloom citizens in ...</td>\n",
       "      <td>business</td>\n",
       "    </tr>\n",
       "    <tr>\n",
       "      <th>3</th>\n",
       "      <td>1976</td>\n",
       "      <td>lifestyle  governs mobile choice  faster  bett...</td>\n",
       "      <td>tech</td>\n",
       "    </tr>\n",
       "    <tr>\n",
       "      <th>4</th>\n",
       "      <td>917</td>\n",
       "      <td>enron bosses in $168m payout eighteen former e...</td>\n",
       "      <td>business</td>\n",
       "    </tr>\n",
       "  </tbody>\n",
       "</table>\n",
       "</div>"
      ],
      "text/plain": [
       "   ArticleId                                               Text  Category\n",
       "0       1833  worldcom ex-boss launches defence lawyers defe...  business\n",
       "1        154  german business confidence slides german busin...  business\n",
       "2       1101  bbc poll indicates economic gloom citizens in ...  business\n",
       "3       1976  lifestyle  governs mobile choice  faster  bett...      tech\n",
       "4        917  enron bosses in $168m payout eighteen former e...  business"
      ]
     },
     "execution_count": 3,
     "metadata": {},
     "output_type": "execute_result"
    }
   ],
   "source": [
    "bbc_train.head()"
   ]
  },
  {
   "cell_type": "code",
   "execution_count": 4,
   "id": "7df4cce4",
   "metadata": {},
   "outputs": [
    {
     "data": {
      "text/html": [
       "<div>\n",
       "<style scoped>\n",
       "    .dataframe tbody tr th:only-of-type {\n",
       "        vertical-align: middle;\n",
       "    }\n",
       "\n",
       "    .dataframe tbody tr th {\n",
       "        vertical-align: top;\n",
       "    }\n",
       "\n",
       "    .dataframe thead th {\n",
       "        text-align: right;\n",
       "    }\n",
       "</style>\n",
       "<table border=\"1\" class=\"dataframe\">\n",
       "  <thead>\n",
       "    <tr style=\"text-align: right;\">\n",
       "      <th></th>\n",
       "      <th>ArticleId</th>\n",
       "      <th>Text</th>\n",
       "    </tr>\n",
       "  </thead>\n",
       "  <tbody>\n",
       "    <tr>\n",
       "      <th>0</th>\n",
       "      <td>1018</td>\n",
       "      <td>qpr keeper day heads for preston queens park r...</td>\n",
       "    </tr>\n",
       "    <tr>\n",
       "      <th>1</th>\n",
       "      <td>1319</td>\n",
       "      <td>software watching while you work software that...</td>\n",
       "    </tr>\n",
       "    <tr>\n",
       "      <th>2</th>\n",
       "      <td>1138</td>\n",
       "      <td>d arcy injury adds to ireland woe gordon d arc...</td>\n",
       "    </tr>\n",
       "    <tr>\n",
       "      <th>3</th>\n",
       "      <td>459</td>\n",
       "      <td>india s reliance family feud heats up the ongo...</td>\n",
       "    </tr>\n",
       "    <tr>\n",
       "      <th>4</th>\n",
       "      <td>1020</td>\n",
       "      <td>boro suffer morrison injury blow middlesbrough...</td>\n",
       "    </tr>\n",
       "  </tbody>\n",
       "</table>\n",
       "</div>"
      ],
      "text/plain": [
       "   ArticleId                                               Text\n",
       "0       1018  qpr keeper day heads for preston queens park r...\n",
       "1       1319  software watching while you work software that...\n",
       "2       1138  d arcy injury adds to ireland woe gordon d arc...\n",
       "3        459  india s reliance family feud heats up the ongo...\n",
       "4       1020  boro suffer morrison injury blow middlesbrough..."
      ]
     },
     "execution_count": 4,
     "metadata": {},
     "output_type": "execute_result"
    }
   ],
   "source": [
    "bbc_test.head()"
   ]
  },
  {
   "cell_type": "markdown",
   "id": "ba2e1d94",
   "metadata": {},
   "source": [
    "### Data Cleaning and Exploratory Data Analysis"
   ]
  },
  {
   "cell_type": "markdown",
   "id": "9d3e414f",
   "metadata": {},
   "source": [
    "First step is to clean the data of null and/or duplicated values. Having null or duplicate values will give an inaccurate feedback in the final result and the algorithm or model is unreliable."
   ]
  },
  {
   "cell_type": "code",
   "execution_count": 5,
   "id": "ea02c644",
   "metadata": {},
   "outputs": [
    {
     "data": {
      "text/plain": [
       "ArticleId    0\n",
       "Text         0\n",
       "Category     0\n",
       "dtype: int64"
      ]
     },
     "execution_count": 5,
     "metadata": {},
     "output_type": "execute_result"
    }
   ],
   "source": [
    "bbc_train.isnull().sum()"
   ]
  },
  {
   "cell_type": "code",
   "execution_count": 6,
   "id": "8538ecd1",
   "metadata": {},
   "outputs": [
    {
     "data": {
      "text/plain": [
       "ArticleId    1490\n",
       "Text         1440\n",
       "Category        5\n",
       "dtype: int64"
      ]
     },
     "execution_count": 6,
     "metadata": {},
     "output_type": "execute_result"
    }
   ],
   "source": [
    "bbc_train.nunique()"
   ]
  },
  {
   "cell_type": "markdown",
   "id": "94174a7e",
   "metadata": {},
   "source": [
    "There seems to be 50 duplicated texts which we will remove from the dataset. This will help have a more accurate outcome on our model."
   ]
  },
  {
   "cell_type": "code",
   "execution_count": 7,
   "id": "02b45d0f",
   "metadata": {},
   "outputs": [],
   "source": [
    "bbc_train = bbc_train.drop_duplicates(subset = ['Text'])"
   ]
  },
  {
   "cell_type": "markdown",
   "id": "c1a62de1",
   "metadata": {},
   "source": [
    "Now the data has no duplicated or null values. Now applying EDA techniques to help understand the training data better and then extract word features. To avoid bias in results, I won't visualize or explore the test set."
   ]
  },
  {
   "cell_type": "code",
   "execution_count": 8,
   "id": "d2396316",
   "metadata": {},
   "outputs": [
    {
     "name": "stdout",
     "output_type": "stream",
     "text": [
      "<class 'pandas.core.frame.DataFrame'>\n",
      "Int64Index: 1440 entries, 0 to 1489\n",
      "Data columns (total 3 columns):\n",
      " #   Column     Non-Null Count  Dtype \n",
      "---  ------     --------------  ----- \n",
      " 0   ArticleId  1440 non-null   int64 \n",
      " 1   Text       1440 non-null   object\n",
      " 2   Category   1440 non-null   object\n",
      "dtypes: int64(1), object(2)\n",
      "memory usage: 45.0+ KB\n"
     ]
    }
   ],
   "source": [
    "bbc_train.info()"
   ]
  },
  {
   "cell_type": "code",
   "execution_count": 9,
   "id": "e2dbc317",
   "metadata": {},
   "outputs": [
    {
     "data": {
      "text/html": [
       "<div>\n",
       "<style scoped>\n",
       "    .dataframe tbody tr th:only-of-type {\n",
       "        vertical-align: middle;\n",
       "    }\n",
       "\n",
       "    .dataframe tbody tr th {\n",
       "        vertical-align: top;\n",
       "    }\n",
       "\n",
       "    .dataframe thead th {\n",
       "        text-align: right;\n",
       "    }\n",
       "</style>\n",
       "<table border=\"1\" class=\"dataframe\">\n",
       "  <thead>\n",
       "    <tr style=\"text-align: right;\">\n",
       "      <th></th>\n",
       "      <th>Text</th>\n",
       "      <th>Category</th>\n",
       "    </tr>\n",
       "  </thead>\n",
       "  <tbody>\n",
       "    <tr>\n",
       "      <th>count</th>\n",
       "      <td>1440</td>\n",
       "      <td>1440</td>\n",
       "    </tr>\n",
       "    <tr>\n",
       "      <th>unique</th>\n",
       "      <td>1440</td>\n",
       "      <td>5</td>\n",
       "    </tr>\n",
       "    <tr>\n",
       "      <th>top</th>\n",
       "      <td>worldcom ex-boss launches defence lawyers defe...</td>\n",
       "      <td>sport</td>\n",
       "    </tr>\n",
       "    <tr>\n",
       "      <th>freq</th>\n",
       "      <td>1</td>\n",
       "      <td>342</td>\n",
       "    </tr>\n",
       "  </tbody>\n",
       "</table>\n",
       "</div>"
      ],
      "text/plain": [
       "                                                     Text Category\n",
       "count                                                1440     1440\n",
       "unique                                               1440        5\n",
       "top     worldcom ex-boss launches defence lawyers defe...    sport\n",
       "freq                                                    1      342"
      ]
     },
     "execution_count": 9,
     "metadata": {},
     "output_type": "execute_result"
    }
   ],
   "source": [
    "bbc_train.describe(include = 'object')"
   ]
  },
  {
   "cell_type": "markdown",
   "id": "c2596b5c",
   "metadata": {},
   "source": [
    "The 'Text' and 'Category' are object-type attributes while the ArticleId is integer-type. There are 5 unique categories and 1440 unique text. Below we will see the how many articles are in each category."
   ]
  },
  {
   "cell_type": "code",
   "execution_count": 10,
   "id": "f00ed778",
   "metadata": {},
   "outputs": [
    {
     "data": {
      "text/plain": [
       "sport            342\n",
       "business         335\n",
       "politics         266\n",
       "entertainment    263\n",
       "tech             234\n",
       "Name: Category, dtype: int64"
      ]
     },
     "execution_count": 10,
     "metadata": {},
     "output_type": "execute_result"
    }
   ],
   "source": [
    "bbc_train['Category'].value_counts()"
   ]
  },
  {
   "cell_type": "code",
   "execution_count": 11,
   "id": "6ab8daf7",
   "metadata": {},
   "outputs": [
    {
     "data": {
      "text/plain": [
       "Text(0.5, 1.0, 'The Distribution of Articles in Each Category')"
      ]
     },
     "execution_count": 11,
     "metadata": {},
     "output_type": "execute_result"
    },
    {
     "data": {
      "image/png": "[encoded data removed]",
      "text/plain": [
       "<Figure size 864x504 with 1 Axes>"
      ]
     },
     "metadata": {
      "needs_background": "light"
     },
     "output_type": "display_data"
    }
   ],
   "source": [
    "# Visualizing the number of articles per cateogry\n",
    "f, ax = plt.subplots(figsize = (12, 7))\n",
    "sns.histplot(data = bbc_train, y = \"Category\", hue = \"Category\",  shrink = .7, legend = False)\n",
    "plt.title(\"The Distribution of Articles in Each Category\")"
   ]
  },
  {
   "cell_type": "markdown",
   "id": "60ad607a",
   "metadata": {},
   "source": [
    "There are more articles from business and sport than the other categories.\n",
    "\n",
    "Now we will look at the 'Text' category to see how the data is saved. We will visualize the length of text in each article and in each category."
   ]
  },
  {
   "cell_type": "code",
   "execution_count": 12,
   "id": "a5847042",
   "metadata": {},
   "outputs": [
    {
     "data": {
      "text/plain": [
       "'worldcom ex-boss launches defence lawyers defending former worldcom chief bernie ebbers against a battery of fraud charges have called a company whistleblower as their first witness.  cynthia cooper  worldcom s ex-head of internal accounting  alerted directors to irregular accounting practices at the us telecoms giant in 2002. her warnings led to the collapse of the firm following the discovery of an $11bn (£5.7bn) accounting fraud. mr ebbers has pleaded not guilty to charges of fraud and conspiracy.  prosecution lawyers have argued that mr ebbers orchestrated a series of accounting tricks at worldcom  ordering employees to hide expenses and inflate revenues to meet wall street earnings estimates. but ms cooper  who now runs her own consulting business  told a jury in new york on wednesday that external auditors arthur andersen had approved worldcom s accounting in early 2001 and 2002. she said andersen had given a  green light  to the procedures and practices used by worldcom. mr ebber s lawyers have said he was unaware of the fraud  arguing that auditors did not alert him to any problems.  ms cooper also said that during shareholder meetings mr ebbers often passed over technical questions to the company s finance chief  giving only  brief  answers himself. the prosecution s star witness  former worldcom financial chief scott sullivan  has said that mr ebbers ordered accounting adjustments at the firm  telling him to  hit our books . however  ms cooper said mr sullivan had not mentioned  anything uncomfortable  about worldcom s accounting during a 2001 audit committee meeting. mr ebbers could face a jail sentence of 85 years if convicted of all the charges he is facing. worldcom emerged from bankruptcy protection in 2004  and is now known as mci. last week  mci agreed to a buyout by verizon communications in a deal valued at $6.75bn.'"
      ]
     },
     "execution_count": 12,
     "metadata": {},
     "output_type": "execute_result"
    }
   ],
   "source": [
    "bbc_train[\"Text\"][0]"
   ]
  },
  {
   "cell_type": "code",
   "execution_count": 13,
   "id": "ec36b9c5",
   "metadata": {},
   "outputs": [
    {
     "data": {
      "text/plain": [
       "'german business confidence slides german business confidence fell in february knocking hopes of a speedy recovery in europe s largest economy.  munich-based research institute ifo said that its confidence index fell to 95.5 in february from 97.5 in january  its first decline in three months. the study found that the outlook in both the manufacturing and retail sectors had worsened. observers had been hoping that a more confident business sector would signal that economic activity was picking up.   we re surprised that the ifo index has taken such a knock   said dz bank economist bernd weidensteiner.  the main reason is probably that the domestic economy is still weak  particularly in the retail trade.  economy and labour minister wolfgang clement called the dip in february s ifo confidence figure  a very mild decline . he said that despite the retreat  the index remained at a relatively high level and that he expected  a modest economic upswing  to continue.  germany s economy grew 1.6% last year after shrinking in 2003. however  the economy contracted by 0.2% during the last three months of 2004  mainly due to the reluctance of consumers to spend. latest indications are that growth is still proving elusive and ifo president hans-werner sinn said any improvement in german domestic demand was sluggish. exports had kept things going during the first half of 2004  but demand for exports was then hit as the value of the euro hit record levels making german products less competitive overseas. on top of that  the unemployment rate has been stuck at close to 10% and manufacturing firms  including daimlerchrysler  siemens and volkswagen  have been negotiating with unions over cost cutting measures. analysts said that the ifo figures and germany s continuing problems may delay an interest rate rise by the european central bank. eurozone interest rates are at 2%  but comments from senior officials have recently focused on the threat of inflation  prompting fears that interest rates may rise.'"
      ]
     },
     "execution_count": 13,
     "metadata": {},
     "output_type": "execute_result"
    }
   ],
   "source": [
    "bbc_train[\"Text\"][1]"
   ]
  },
  {
   "cell_type": "code",
   "execution_count": 14,
   "id": "b9888071",
   "metadata": {},
   "outputs": [
    {
     "data": {
      "text/plain": [
       "Text(0.5, 1.0, 'The Distribution of Characters per Article')"
      ]
     },
     "execution_count": 14,
     "metadata": {},
     "output_type": "execute_result"
    },
    {
     "data": {
      "image/png": "[encoded data removed]",
      "text/plain": [
       "<Figure size 864x504 with 1 Axes>"
      ]
     },
     "metadata": {
      "needs_background": "light"
     },
     "output_type": "display_data"
    }
   ],
   "source": [
    "# Visualizing number of characters in each article\n",
    "f, ax = plt.subplots(figsize = (12, 7))\n",
    "sns.kdeplot(data = bbc_train, x = bbc_train['Text'].str.len(), fill = True)\n",
    "plt.title(\"The Distribution of Characters per Article\")"
   ]
  },
  {
   "cell_type": "code",
   "execution_count": 15,
   "id": "14bd02c7",
   "metadata": {},
   "outputs": [
    {
     "data": {
      "text/plain": [
       "Text(0.5, 1.0, 'The Distribution of Characters per Article in Each Category')"
      ]
     },
     "execution_count": 15,
     "metadata": {},
     "output_type": "execute_result"
    },
    {
     "data": {
      "image/png": "[encoded data removed]",
      "text/plain": [
       "<Figure size 864x504 with 1 Axes>"
      ]
     },
     "metadata": {
      "needs_background": "light"
     },
     "output_type": "display_data"
    }
   ],
   "source": [
    "# Visualizing number of characters in each Category\n",
    "f, ax = plt.subplots(figsize = (12, 7))\n",
    "sns.scatterplot(data = bbc_train, x = \"Category\", y = bbc_train['Text'].str.len(), \n",
    "             hue = \"Category\", size=bbc_train['Text'].str.len(), sizes = (20, 200))\n",
    "sns.move_legend(ax, \"upper left\", bbox_to_anchor=(1, 1))\n",
    "plt.title(\"The Distribution of Characters per Article in Each Category\")"
   ]
  },
  {
   "cell_type": "markdown",
   "id": "234ca58f",
   "metadata": {},
   "source": [
    "Most articles have a text length less than 3000 characters while a very small amount are more than 5000. Business articles have text lengths that are relatively smaller than the rest while politics has the highest text length for an article."
   ]
  },
  {
   "cell_type": "code",
   "execution_count": 16,
   "id": "cc4cfe18",
   "metadata": {},
   "outputs": [
    {
     "data": {
      "text/plain": [
       "Text(0.5, 1.0, 'The Distribution of Number of Words per Article in Each Category')"
      ]
     },
     "execution_count": 16,
     "metadata": {},
     "output_type": "execute_result"
    },
    {
     "data": {
      "image/png": "[encoded data removed]",
      "text/plain": [
       "<Figure size 864x504 with 1 Axes>"
      ]
     },
     "metadata": {
      "needs_background": "light"
     },
     "output_type": "display_data"
    }
   ],
   "source": [
    "# Visualizing number of words in each Category\n",
    "bbc_train['Text'].str.split().map(lambda x: len(x))\n",
    "\n",
    "f, ax = plt.subplots(figsize = (12, 7))\n",
    "sns.kdeplot(data = bbc_train, x = bbc_train['Text'].str.split().map(lambda x: len(x)), \n",
    "             hue = \"Category\")\n",
    "plt.title(\"The Distribution of Number of Words per Article in Each Category\")"
   ]
  },
  {
   "cell_type": "markdown",
   "id": "221903ef",
   "metadata": {},
   "source": [
    "Average number of words per article seems to be under 500. Business articles have the highest number of articles with less than 500 words. Politics articles have highest number of words (>3500 words)."
   ]
  },
  {
   "cell_type": "markdown",
   "id": "8f490ba2",
   "metadata": {},
   "source": [
    "#### Text Processing"
   ]
  },
  {
   "cell_type": "markdown",
   "id": "77ce53b9",
   "metadata": {},
   "source": [
    "Now we will preprocess the text so that we can use it in further analysis. Although the above 2 texts seem to be in lowercase, we will apply the step again to make sure the rest of the texts are also lowercase. The text should be \"readable\" for the computer programs to use. So we should remove punctuations, special characters and stopwords such as (of, in, is, an, the, to, etc). I will also remove numeric characters as well to make the text easier to analyze."
   ]
  },
  {
   "cell_type": "code",
   "execution_count": 17,
   "id": "f942c3b2",
   "metadata": {},
   "outputs": [],
   "source": [
    "#Lowercase all text\n",
    "bbc_train[\"Text\"] = bbc_train[\"Text\"].str.lower()\n",
    "\n",
    "#Remove numeric and special characters, including punctuation\n",
    "bbc_train[\"Text\"] = bbc_train[\"Text\"].apply(lambda row: re.sub(r'[^\\w\\s]+', '', row))\n",
    "bbc_train[\"Text\"] = bbc_train[\"Text\"].apply(lambda row: re.sub(r'[0-9]', '', row))"
   ]
  },
  {
   "cell_type": "code",
   "execution_count": 18,
   "id": "a029e796",
   "metadata": {},
   "outputs": [],
   "source": [
    "#Remove stopwords\n",
    "stopwords = nltk.corpus.stopwords.words('english')\n",
    "\n",
    "bbc_train[\"Text\"] = bbc_train[\"Text\"].apply(lambda words: ' '.join(word for word in words.split() if word not in stopwords))"
   ]
  },
  {
   "cell_type": "code",
   "execution_count": 19,
   "id": "248a1703",
   "metadata": {},
   "outputs": [
    {
     "data": {
      "text/plain": [
       "'worldcom exboss launches defence lawyers defending former worldcom chief bernie ebbers battery fraud charges called company whistleblower first witness cynthia cooper worldcom exhead internal accounting alerted directors irregular accounting practices us telecoms giant warnings led collapse firm following discovery bn bn accounting fraud mr ebbers pleaded guilty charges fraud conspiracy prosecution lawyers argued mr ebbers orchestrated series accounting tricks worldcom ordering employees hide expenses inflate revenues meet wall street earnings estimates ms cooper runs consulting business told jury new york wednesday external auditors arthur andersen approved worldcom accounting early said andersen given green light procedures practices used worldcom mr ebber lawyers said unaware fraud arguing auditors alert problems ms cooper also said shareholder meetings mr ebbers often passed technical questions company finance chief giving brief answers prosecution star witness former worldcom financial chief scott sullivan said mr ebbers ordered accounting adjustments firm telling hit books however ms cooper said mr sullivan mentioned anything uncomfortable worldcom accounting audit committee meeting mr ebbers could face jail sentence years convicted charges facing worldcom emerged bankruptcy protection known mci last week mci agreed buyout verizon communications deal valued bn'"
      ]
     },
     "execution_count": 19,
     "metadata": {},
     "output_type": "execute_result"
    }
   ],
   "source": [
    "# Checking if punctuation, other unnecessary and stopwords have been removed.\n",
    "bbc_train[\"Text\"][0]"
   ]
  },
  {
   "cell_type": "markdown",
   "id": "a3ba09ec",
   "metadata": {},
   "source": [
    "In the next step, I will tokenize and lemmatize the text. \n",
    "\n",
    "Tokenization is a technique to break down sentences into a stream of words called tokens. This can be used for further analysis or in other methods for natural language processing.\n",
    "\n",
    "Lemmatization is text preprocessing technique similar to stemming since they can be used to convert words into their root form. Lemmatization is more advanced since it actually transforms the word to its actual root by using a dictionary. Because it tries to be more accurate, it requires more processing power and time to generate an output. However since I'm trying to classify news articles, it would be better to have more accurate conversions of the word to its root.  "
   ]
  },
  {
   "cell_type": "code",
   "execution_count": 20,
   "id": "97064660",
   "metadata": {},
   "outputs": [],
   "source": [
    "# Function for lemmatizing text\n",
    "# Refer to #1, #2 in References\n",
    "wordnet_lemmatizer = nltk.stem.WordNetLemmatizer()\n",
    "def lemmatizer(text):\n",
    "    tokens = nltk.word_tokenize(text)\n",
    "    lem_text = ' '.join([wordnet_lemmatizer.lemmatize(w) for w in tokens])\n",
    "    return lem_text"
   ]
  },
  {
   "cell_type": "code",
   "execution_count": 21,
   "id": "075dfef5",
   "metadata": {},
   "outputs": [],
   "source": [
    "bbc_train['Text'] = bbc_train['Text'].apply(lemmatizer)"
   ]
  },
  {
   "cell_type": "code",
   "execution_count": 22,
   "id": "df063eb4",
   "metadata": {},
   "outputs": [
    {
     "data": {
      "text/plain": [
       "'worldcom exboss launch defence lawyer defending former worldcom chief bernie ebbers battery fraud charge called company whistleblower first witness cynthia cooper worldcom exhead internal accounting alerted director irregular accounting practice u telecom giant warning led collapse firm following discovery bn bn accounting fraud mr ebbers pleaded guilty charge fraud conspiracy prosecution lawyer argued mr ebbers orchestrated series accounting trick worldcom ordering employee hide expense inflate revenue meet wall street earnings estimate m cooper run consulting business told jury new york wednesday external auditor arthur andersen approved worldcom accounting early said andersen given green light procedure practice used worldcom mr ebber lawyer said unaware fraud arguing auditor alert problem m cooper also said shareholder meeting mr ebbers often passed technical question company finance chief giving brief answer prosecution star witness former worldcom financial chief scott sullivan said mr ebbers ordered accounting adjustment firm telling hit book however m cooper said mr sullivan mentioned anything uncomfortable worldcom accounting audit committee meeting mr ebbers could face jail sentence year convicted charge facing worldcom emerged bankruptcy protection known mci last week mci agreed buyout verizon communication deal valued bn'"
      ]
     },
     "execution_count": 22,
     "metadata": {},
     "output_type": "execute_result"
    }
   ],
   "source": [
    "bbc_train['Text'][0]"
   ]
  },
  {
   "cell_type": "markdown",
   "id": "a636d4be",
   "metadata": {},
   "source": [
    "### Feature Extraction: TF-IDF Vectorizer"
   ]
  },
  {
   "cell_type": "markdown",
   "id": "6ead68af",
   "metadata": {},
   "source": [
    "#### Brief Summary about TF-IDF \n",
    "Term Frequency - Inverse Document Frequency, or TF-IDF, is a measure used to evaluate how meaningful a word is to a document among a collection of documents. It vectorizes a word by multiplying the word's Term Frequency (TF) with the Inverse Document Frequency (IDF).\n",
    "\n",
    "**TF** = No. of times a certain word appears in document. \n",
    "\n",
    "**IDF** = Weight of the term or the measure of how common or uncommon the word is across the entire set of documents. In sklearn, IDF is calculated by:\n",
    "\n",
    "$$IDF(t) = \\log \\frac{(1+n)}{1 + DF(t)} + 1$$\n",
    "where, \n",
    "- ***t*** = term that is being measured \n",
    "- ***n*** = number of total documents in the corpus \n",
    "- ***DF(t)*** = Number of documents in which term, t appears \n",
    "      \n",
    "The TF-IDF score is between 0 and 1. The more relevant the term, the higher TF-IDF value (approaching 1).\n",
    "\n",
    "I will be using sklearn's TF-IDF Vectorizer for processing raw text to feature vectors. By doing this, it will distinguish how relevant a term is to a document proportional to it's importance across all documents in the corpus. This can help distinguish the top words in each category which can help with further classification."
   ]
  },
  {
   "cell_type": "code",
   "execution_count": 23,
   "id": "9f72ec59",
   "metadata": {},
   "outputs": [
    {
     "data": {
      "text/plain": [
       "(1440, 22674)"
      ]
     },
     "execution_count": 23,
     "metadata": {},
     "output_type": "execute_result"
    }
   ],
   "source": [
    "#Initialise the vectorizer, using default settings\n",
    "tfidf_vec = TfidfVectorizer()\n",
    "\n",
    "#convert text to matrix form\n",
    "features = tfidf_vec.fit_transform(bbc_train[\"Text\"]).toarray()     \n",
    "\n",
    "#Get feature names\n",
    "features_names = tfidf_vec.get_feature_names_out()\n",
    "\n",
    "features.shape"
   ]
  },
  {
   "cell_type": "code",
   "execution_count": 24,
   "id": "3ec50dee",
   "metadata": {},
   "outputs": [
    {
     "data": {
      "text/plain": [
       "(1440,)"
      ]
     },
     "execution_count": 24,
     "metadata": {},
     "output_type": "execute_result"
    }
   ],
   "source": [
    "#set labels to target column in bbc_train\n",
    "labels = bbc_train[\"Category\"] \n",
    "\n",
    "labels.shape"
   ]
  },
  {
   "cell_type": "markdown",
   "id": "25043376",
   "metadata": {},
   "source": [
    "### NMF Model Building and Training"
   ]
  },
  {
   "cell_type": "markdown",
   "id": "4a572f5b",
   "metadata": {},
   "source": [
    "For this project, I chose Non-Negative Matrix Factorization (NMF) method as my unsupervised learning approach. \n",
    "\n",
    "The main objective of unsupervised learning algorithms is to find hidden patterns or trends in unlabeled data. So the test dataset can be included with the training dataset for analysis. \n",
    "\n",
    "However for training the NMF model, I only used the training dataset to analyze the model performance and how well it could label the articles."
   ]
  },
  {
   "cell_type": "code",
   "execution_count": 25,
   "id": "f0117b7d",
   "metadata": {},
   "outputs": [],
   "source": [
    "#Method from Week 2 Clustering Assignment: Permutate labels and find the best permutation with the highest accuracy\n",
    "def label_permute_compare(ytdf,yp,n=5):\n",
    "    vals = list(bbc_train[\"Category\"].unique())\n",
    "    nums = [0, 1, 2, 3, 4]\n",
    "    labels = dict(zip(vals, nums))\n",
    "    perms = list(itertools.permutations(labels))\n",
    "    acc = []\n",
    "    prec = []\n",
    "    recall = []\n",
    "    cm = []\n",
    "    for i in range(len(perms)):\n",
    "        ypred = np.choose(yp, perms[i])\n",
    "        \n",
    "        #calculate accuracy for each permutation\n",
    "        acc.append(metrics.accuracy_score(ytdf, ypred))\n",
    "       \n",
    "        #calculate precision for each permutation\n",
    "        prec.append(metrics.precision_score(ytdf, ypred, average = None))\n",
    "        \n",
    "        #calculate recall for each permutation\n",
    "        recall.append(metrics.recall_score(ytdf, ypred, average = None))\n",
    "        \n",
    "        #confusion matrix\n",
    "        cm.append(metrics.confusion_matrix(ytdf, ypred))\n",
    "    #get the index of highest accuracy    \n",
    "    idx = np.argmax(acc)   \n",
    "    pm = dict(zip(nums, perms[idx]))\n",
    "    scores = {'Accuracy' : round(acc[idx], 4),\n",
    "              'Precision' : round(prec[idx].mean(), 4),\n",
    "              'Recall' : round(recall[idx].mean(), 4)}\n",
    "    print('Best Permutation of Labels')\n",
    "    print(pm)\n",
    "    print('Confusion Matrix:')\n",
    "    print(cm[idx])\n",
    "    #Get the labels of best permutation and its accuracy\n",
    "    return scores"
   ]
  },
  {
   "cell_type": "code",
   "execution_count": 26,
   "id": "71be6bf4",
   "metadata": {},
   "outputs": [],
   "source": [
    "#helper function for NMF model\n",
    "def nmf_model(n, mtype, stype, alpha_w):\n",
    "    return NMF(n_components = n, beta_loss = mtype, solver = stype, \n",
    "               alpha_W = alpha_w, init = 'nndsvda')"
   ]
  },
  {
   "cell_type": "code",
   "execution_count": 27,
   "id": "7a8fda5f",
   "metadata": {},
   "outputs": [
    {
     "name": "stdout",
     "output_type": "stream",
     "text": [
      "Best Permutation of Labels\n",
      "{0: 'sport', 1: 'politics', 2: 'tech', 3: 'entertainment', 4: 'business'}\n",
      "Confusion Matrix:\n",
      "[[309   1  12   1  12]\n",
      " [  5 195   8  17  38]\n",
      " [ 14   0 242   6   4]\n",
      " [  0   2   0 340   0]\n",
      " [  2   3   3   9 217]]\n",
      "Evaluation of Predicted Train Labels: {'Accuracy': 0.9049, 'Precision': 0.9064, 'Recall': 0.899}\n"
     ]
    }
   ],
   "source": [
    "#Initialize model\n",
    "model = nmf_model(5, 'frobenius', 'cd', 0.00005)\n",
    "\n",
    "#Get transformed data matrix for X_train\n",
    "nmf_features = model.fit_transform(features)\n",
    "\n",
    "# Get the predicted label for each document by using argmax to get the highest predicted probabilities of each row\n",
    "# Refer to #12 in References\n",
    "yp_train = np.argmax(nmf_features, axis=1)\n",
    "\n",
    "#Best permuted label order and evaluation metrics\n",
    "score_train = label_permute_compare(labels, yp_train)\n",
    "print(\"Evaluation of Predicted Train Labels:\", score_train)"
   ]
  },
  {
   "cell_type": "code",
   "execution_count": 28,
   "id": "74a985eb",
   "metadata": {},
   "outputs": [],
   "source": [
    "# Function to display top words for each label\n",
    "def display_top_words(nmfmodel, f_names, num_top_words):\n",
    "    for ix, topic in enumerate(model.components_):\n",
    "        print(\"Label \", ix)\n",
    "        print(\", \".join([f_names[i] \\\n",
    "             for i in topic.argsort()[:-num_top_words - 1:-1]]))"
   ]
  },
  {
   "cell_type": "code",
   "execution_count": 29,
   "id": "b4360980",
   "metadata": {},
   "outputs": [
    {
     "name": "stdout",
     "output_type": "stream",
     "text": [
      "Label  0\n",
      "game, england, win, player, wale, ireland, cup, match, said, team\n",
      "Label  1\n",
      "mr, labour, election, blair, party, tory, brown, tax, said, minister\n",
      "Label  2\n",
      "mobile, phone, people, music, technology, said, service, user, broadband, net\n",
      "Label  3\n",
      "film, award, best, actor, oscar, actress, star, nomination, director, festival\n",
      "Label  4\n",
      "bn, growth, economy, rate, said, bank, year, market, economic, sale\n"
     ]
    }
   ],
   "source": [
    "display_top_words(model, features_names, 10)"
   ]
  },
  {
   "cell_type": "markdown",
   "id": "e60486d6",
   "metadata": {},
   "source": [
    "### Hyperparameter Tuning"
   ]
  },
  {
   "cell_type": "markdown",
   "id": "9ca76a8a",
   "metadata": {},
   "source": [
    "For the initial model, I chose the hyperparameters(n_components = 5, beta_loss = frobenius, solver = cd, alpha_W = 0.0). The model had a good accuracy on the training set, but had a poor accuracy on the test set when submitted to Kaggle. \n",
    "\n",
    "Decreasing the n_components reduced the accuracy of the model. Increasing the alpha_W to 0.00005 decreased the accuracy of the models using Frobenius beta_loss on both the training set and test. For the model using Kullback-Leibler, the accuracy of the test set remained unaffected, but the accuracy if the training set slightly decreased when increasing alpha_W.\n",
    "\n",
    "Experimenting with the hyperparameters of beta_loss, solver and alpha_W, the model with hyperparameters(n_components = 5, beta_loss = kullback-leibler, solver = mu, alpha_W = 0.00005) had the highest accuracy for the training model."
   ]
  },
  {
   "cell_type": "code",
   "execution_count": 30,
   "id": "815ffa9c",
   "metadata": {},
   "outputs": [
    {
     "name": "stdout",
     "output_type": "stream",
     "text": [
      "Best Permutation of Labels\n",
      "{0: 'sport', 1: 'politics', 2: 'tech', 3: 'entertainment', 4: 'business'}\n",
      "Confusion Matrix:\n",
      "[[307   1  12   3  12]\n",
      " [  5 199   7  22  30]\n",
      " [ 11   0 242   9   4]\n",
      " [  0   2   0 340   0]\n",
      " [  1   3   3  14 213]]\n",
      "Evaluation of Predicted Train Labels: {'Accuracy': 0.9035, 'Precision': 0.9067, 'Recall': 0.8975}\n"
     ]
    }
   ],
   "source": [
    "#Initialize model\n",
    "model1 = nmf_model(5, 'frobenius', 'mu', 0.00005)\n",
    "\n",
    "#Get transformed data matrix for X_train\n",
    "nmf_features1 = model1.fit_transform(features)\n",
    "\n",
    "#Get the predicted label for each document\n",
    "yp_train1 = np.argmax(nmf_features1, axis=1)\n",
    "\n",
    "#Best permuted label order and evaluation metrics\n",
    "score1_train = label_permute_compare(labels, yp_train1)\n",
    "print(\"Evaluation of Predicted Train Labels:\", score1_train)"
   ]
  },
  {
   "cell_type": "code",
   "execution_count": 31,
   "id": "9fa0cbf0",
   "metadata": {},
   "outputs": [
    {
     "name": "stdout",
     "output_type": "stream",
     "text": [
      "Label  0\n",
      "game, england, win, player, wale, ireland, cup, match, said, team\n",
      "Label  1\n",
      "mr, labour, election, blair, party, tory, brown, tax, said, minister\n",
      "Label  2\n",
      "mobile, phone, people, music, technology, said, service, user, broadband, net\n",
      "Label  3\n",
      "film, award, best, actor, oscar, actress, star, nomination, director, festival\n",
      "Label  4\n",
      "bn, growth, economy, rate, said, bank, year, market, economic, sale\n"
     ]
    }
   ],
   "source": [
    "display_top_words(model, features_names, 10)"
   ]
  },
  {
   "cell_type": "code",
   "execution_count": 32,
   "id": "6f0b8f33",
   "metadata": {},
   "outputs": [
    {
     "name": "stdout",
     "output_type": "stream",
     "text": [
      "Best Permutation of Labels\n",
      "{0: 'sport', 1: 'politics', 2: 'tech', 3: 'entertainment', 4: 'business'}\n",
      "Confusion Matrix:\n",
      "[[267   3  15   2  48]\n",
      " [  2 242   1  14   4]\n",
      " [  3   2 252   8   1]\n",
      " [  3   2   0 337   0]\n",
      " [  0   4   2   9 219]]\n",
      "Evaluation of Predicted Train Labels: {'Accuracy': 0.9146, 'Precision': 0.9153, 'Recall': 0.9172}\n"
     ]
    }
   ],
   "source": [
    "#Initialize model\n",
    "model2 = nmf_model(5, 'kullback-leibler', 'mu', 0.00005)\n",
    "\n",
    "#Get transformed data matrix for X_train\n",
    "nmf_features2 = model2.fit_transform(features)\n",
    "\n",
    "#Get the predicted label for each document\n",
    "yp_train2 = np.argmax(nmf_features2, axis=1)\n",
    "\n",
    "#Best permuted label order and evaluation metrics\n",
    "score2_train = label_permute_compare(labels, yp_train2)\n",
    "print(\"Evaluation of Predicted Train Labels:\", score2_train)"
   ]
  },
  {
   "cell_type": "code",
   "execution_count": 33,
   "id": "21a488bb",
   "metadata": {},
   "outputs": [
    {
     "name": "stdout",
     "output_type": "stream",
     "text": [
      "Label  0\n",
      "game, england, win, player, wale, ireland, cup, match, said, team\n",
      "Label  1\n",
      "mr, labour, election, blair, party, tory, brown, tax, said, minister\n",
      "Label  2\n",
      "mobile, phone, people, music, technology, said, service, user, broadband, net\n",
      "Label  3\n",
      "film, award, best, actor, oscar, actress, star, nomination, director, festival\n",
      "Label  4\n",
      "bn, growth, economy, rate, said, bank, year, market, economic, sale\n"
     ]
    }
   ],
   "source": [
    "display_top_words(model, features_names, 10)"
   ]
  },
  {
   "cell_type": "markdown",
   "id": "59bab6e6",
   "metadata": {},
   "source": [
    "<p style=\"text-align: center; text-style: bold\"><strong>Model Performance on Predicting Labels for X_Test Data</strong></p>\n",
    "\n",
    "| NMF Model Parameters                   | Accuracy | Precision | Recall |\n",
    "|----------------------------------------|----------|-----------|--------|\n",
    "| NMF(5, frobenius, cd, 0.00005)         | 0.9049   | 0.9064    | 0.899  |\n",
    "| NMF(5, frobenius, mu, 0.00005)         | 0.9035   | 0.9067    | 0.8975 |\n",
    "| NMF(5, kullback-leibler, mu, 0.00005)  | 0.9146   | 0.9153    | 0.9172 |"
   ]
  },
  {
   "cell_type": "markdown",
   "id": "ddbb5691",
   "metadata": {},
   "source": [
    "#### Can we improve model?"
   ]
  },
  {
   "cell_type": "markdown",
   "id": "743d29bc",
   "metadata": {},
   "source": [
    "By changing the parameters of the TfidfVectorizer to ngram_range(1, 2), max_df = 0.95 and min_df = 2, the model performance improved to an accuracy of 0.95. Reducing the amount of training data used did not improve the accuracy. \n",
    "\n",
    "*Note: Ngram is a string of words. The ngram_range(1, 2) means both unigrams(a string of 1 word) and bigrams(a string of 2 words) will be extracted.*"
   ]
  },
  {
   "cell_type": "code",
   "execution_count": 34,
   "id": "12722eae",
   "metadata": {},
   "outputs": [],
   "source": [
    "#Initialise the vectorizer\n",
    "tfidf = TfidfVectorizer(ngram_range = (1, 2), max_df = 0.95, min_df = 2)\n",
    "\n",
    "#convert text to matrix form\n",
    "features_new = tfidf.fit_transform(bbc_train[\"Text\"]).toarray() \n",
    "\n",
    "features_new_names = tfidf.get_feature_names_out()"
   ]
  },
  {
   "cell_type": "code",
   "execution_count": 35,
   "id": "d0aeb587",
   "metadata": {},
   "outputs": [
    {
     "name": "stdout",
     "output_type": "stream",
     "text": [
      "Best Permutation of Labels\n",
      "{0: 'sport', 1: 'politics', 2: 'business', 3: 'entertainment', 4: 'tech'}\n",
      "Confusion Matrix:\n",
      "[[310   1  13   6   5]\n",
      " [  1 245   2   5  10]\n",
      " [  3   1 252   7   3]\n",
      " [  0   1   0 341   0]\n",
      " [  8   2   1   3 220]]\n",
      "Evaluation of Predicted Test Labels: {'Accuracy': 0.95, 'Precision': 0.9499, 'Recall': 0.9483}\n"
     ]
    }
   ],
   "source": [
    "#Using the model2 since it had the highest accuracy\n",
    "#Get transformed data matrix for features_new\n",
    "nmf_features_new = model2.fit_transform(features_new)\n",
    "\n",
    "#Get the predicted label for each document\n",
    "yp_new = np.argmax(nmf_features_new, axis=1)\n",
    "\n",
    "#Best permuted label order and evaluation metrics\n",
    "score_new = label_permute_compare(labels, yp_new)\n",
    "print(\"Evaluation of Predicted Test Labels:\", score_new)"
   ]
  },
  {
   "cell_type": "code",
   "execution_count": 36,
   "id": "204a70d5",
   "metadata": {},
   "outputs": [
    {
     "name": "stdout",
     "output_type": "stream",
     "text": [
      "Label  0\n",
      "could got, climbed, make top, gas deal, lucrative, dokic, brothel, exchange reserve, hope reach, know right\n",
      "Label  1\n",
      "fellow uk, editor gadget, chronic energy, arm export, freeman, lawyer gregory, average closed, know exist, hope reach, falconer\n",
      "Label  2\n",
      "far easier, game fell, fund managed, fiercely, known work, hope reach, importance, lodger, authority new, film would\n",
      "Label  3\n",
      "confidentiality, also working, appearance home, according gartner, forehand, according hollywood, italy six, firm could, case could, concerned implication\n",
      "Label  4\n",
      "asante, cup wale, chinese, greater, hope reach, analyst expectation, maria, everything alright, china said, hoped return\n"
     ]
    }
   ],
   "source": [
    "display_top_words(model2, features_new_names, 10)"
   ]
  },
  {
   "cell_type": "code",
   "execution_count": 37,
   "id": "94d3f27d",
   "metadata": {},
   "outputs": [
    {
     "name": "stdout",
     "output_type": "stream",
     "text": [
      "Best Permutation of Labels\n",
      "{0: 'tech', 1: 'politics', 2: 'entertainment', 3: 'sport', 4: 'business'}\n",
      "Confusion Matrix:\n",
      "[[232   1   5   0  15]\n",
      " [  2 174   0   0  44]\n",
      " [  1   4 196   0  15]\n",
      " [  1   2   0 269   5]\n",
      " [  0   1   3   0 182]]\n",
      "Evaluation of Predicted Test Labels: {'Accuracy': 0.9141, 'Precision': 0.9194, 'Recall': 0.913}\n"
     ]
    }
   ],
   "source": [
    "#Splitting data to for a subset of 80% of data\n",
    "x_train, x_test, y_train, y_test = train_test_split(features_new, labels, test_size = 0.20, random_state = 42)\n",
    "\n",
    "#Get transformed data matrix for features\n",
    "nmf_features_split = model2.fit_transform(x_train)\n",
    "\n",
    "#Get the predicted label for each document\n",
    "yp_split = np.argmax(nmf_features_split, axis=1)\n",
    "\n",
    "#Best permuted label order and evaluation metrics\n",
    "score_split = label_permute_compare(y_train, yp_split)\n",
    "print(\"Evaluation of Predicted Test Labels:\", score_split)"
   ]
  },
  {
   "cell_type": "markdown",
   "id": "88e6db01",
   "metadata": {},
   "source": [
    "### Predicting Test Data Labels"
   ]
  },
  {
   "cell_type": "markdown",
   "id": "7003b3c0",
   "metadata": {},
   "source": [
    "When initially submitting the test data to Kaggle using the NMF model using n_components = 5, beta_loss = kullback-leibler, solver = mu, alpha_W = 0.00005 and TFIDF Vectorizer with no parameters, the accuracy was 41.18%.\n",
    "\n",
    "Submitting the result using TFIDF Vectorizer parameters of max_df = 0.95 and min_df = 2, the accuracy increased to 63.95%."
   ]
  },
  {
   "cell_type": "code",
   "execution_count": 38,
   "id": "bcac79a7",
   "metadata": {},
   "outputs": [
    {
     "data": {
      "text/html": [
       "<div>\n",
       "<style scoped>\n",
       "    .dataframe tbody tr th:only-of-type {\n",
       "        vertical-align: middle;\n",
       "    }\n",
       "\n",
       "    .dataframe tbody tr th {\n",
       "        vertical-align: top;\n",
       "    }\n",
       "\n",
       "    .dataframe thead th {\n",
       "        text-align: right;\n",
       "    }\n",
       "</style>\n",
       "<table border=\"1\" class=\"dataframe\">\n",
       "  <thead>\n",
       "    <tr style=\"text-align: right;\">\n",
       "      <th></th>\n",
       "      <th>ArticleId</th>\n",
       "      <th>Text</th>\n",
       "    </tr>\n",
       "  </thead>\n",
       "  <tbody>\n",
       "    <tr>\n",
       "      <th>0</th>\n",
       "      <td>1018</td>\n",
       "      <td>qpr keeper day head preston queen park ranger ...</td>\n",
       "    </tr>\n",
       "    <tr>\n",
       "      <th>1</th>\n",
       "      <td>1319</td>\n",
       "      <td>software watching work software monitor every ...</td>\n",
       "    </tr>\n",
       "    <tr>\n",
       "      <th>2</th>\n",
       "      <td>1138</td>\n",
       "      <td>arcy injury add ireland woe gordon arcy ruled ...</td>\n",
       "    </tr>\n",
       "    <tr>\n",
       "      <th>3</th>\n",
       "      <td>459</td>\n",
       "      <td>india reliance family feud heat ongoing public...</td>\n",
       "    </tr>\n",
       "    <tr>\n",
       "      <th>4</th>\n",
       "      <td>1020</td>\n",
       "      <td>boro suffer morrison injury blow middlesbrough...</td>\n",
       "    </tr>\n",
       "    <tr>\n",
       "      <th>5</th>\n",
       "      <td>51</td>\n",
       "      <td>lewsey puzzle disallowed try england josh lews...</td>\n",
       "    </tr>\n",
       "    <tr>\n",
       "      <th>6</th>\n",
       "      <td>2025</td>\n",
       "      <td>blair blast tory spending plan tony blair laun...</td>\n",
       "    </tr>\n",
       "    <tr>\n",
       "      <th>7</th>\n",
       "      <td>1479</td>\n",
       "      <td>former ni minister scott dy former northern ir...</td>\n",
       "    </tr>\n",
       "    <tr>\n",
       "      <th>8</th>\n",
       "      <td>27</td>\n",
       "      <td>career honour actor dicaprio actor leonardo di...</td>\n",
       "    </tr>\n",
       "    <tr>\n",
       "      <th>9</th>\n",
       "      <td>397</td>\n",
       "      <td>tsunami hit sri lanka bank sri lanka bank face...</td>\n",
       "    </tr>\n",
       "  </tbody>\n",
       "</table>\n",
       "</div>"
      ],
      "text/plain": [
       "   ArticleId                                               Text\n",
       "0       1018  qpr keeper day head preston queen park ranger ...\n",
       "1       1319  software watching work software monitor every ...\n",
       "2       1138  arcy injury add ireland woe gordon arcy ruled ...\n",
       "3        459  india reliance family feud heat ongoing public...\n",
       "4       1020  boro suffer morrison injury blow middlesbrough...\n",
       "5         51  lewsey puzzle disallowed try england josh lews...\n",
       "6       2025  blair blast tory spending plan tony blair laun...\n",
       "7       1479  former ni minister scott dy former northern ir...\n",
       "8         27  career honour actor dicaprio actor leonardo di...\n",
       "9        397  tsunami hit sri lanka bank sri lanka bank face..."
      ]
     },
     "execution_count": 38,
     "metadata": {},
     "output_type": "execute_result"
    }
   ],
   "source": [
    "#Lowercase all text\n",
    "bbc_test[\"Text\"] = bbc_test[\"Text\"].str.lower()\n",
    "\n",
    "#Remove numeric and special characters, including punctuation\n",
    "bbc_test[\"Text\"] = bbc_test[\"Text\"].apply(lambda row: re.sub(r'[^\\w\\s]+', '', row))\n",
    "bbc_test[\"Text\"] = bbc_test[\"Text\"].apply(lambda row: re.sub(r'[0-9]', '', row))\n",
    "\n",
    "#Remove stopwords\n",
    "bbc_test[\"Text\"] = bbc_test[\"Text\"].apply(lambda words: ' '.join(word for word in words.split() if word not in stopwords))\n",
    "\n",
    "#Lemmatize the text\n",
    "bbc_test[\"Text\"] = bbc_test[\"Text\"].apply(lemmatizer)\n",
    "\n",
    "bbc_test.head(10)"
   ]
  },
  {
   "cell_type": "code",
   "execution_count": 39,
   "id": "c9621eb7",
   "metadata": {},
   "outputs": [],
   "source": [
    "#test_features = tfidf_vec.fit_transform(bbc_test[\"Text\"]).toarray()\n",
    "\n",
    "test_features1 = tfidf.fit_transform(bbc_test[\"Text\"]).toarray()"
   ]
  },
  {
   "cell_type": "code",
   "execution_count": 40,
   "id": "5a9e55c9",
   "metadata": {},
   "outputs": [],
   "source": [
    "# test_nmf_features = model2.fit_transform(test_features)\n",
    "# yhat_test = np.argmax(test_nmf_features, axis=1)\n",
    "\n",
    "# label_dict = {0: 'sport', 1: 'politics', 2: 'tech', 3: 'entertainment', 4: 'business'}\n",
    "\n",
    "# category_pred = bbc_test[:]\n",
    "# category_pred['ArticleId'] = bbc_test['ArticleId']\n",
    "# category_pred['Category'] = yhat_test\n",
    "# category_pred['Category'] = category_pred['Category'].apply(lambda i: label_dict[i])\n",
    "\n",
    "test_nmf_features2 = model2.fit_transform(test_features1)\n",
    "yhat_test1 = np.argmax(test_nmf_features2, axis=1)\n",
    "\n",
    "label_dict = {0: 'sport', 1: 'politics', 2: 'business', 3: 'entertainment', 4: 'tech'}\n",
    "\n",
    "pred_category = bbc_test[:]\n",
    "pred_category['ArticleId'] = bbc_test['ArticleId']\n",
    "pred_category['Category'] = yhat_test1\n",
    "pred_category['Category'] = pred_category['Category'].apply(lambda i: label_dict[i])"
   ]
  },
  {
   "cell_type": "code",
   "execution_count": 41,
   "id": "a1dc5102",
   "metadata": {},
   "outputs": [
    {
     "data": {
      "text/html": [
       "<div>\n",
       "<style scoped>\n",
       "    .dataframe tbody tr th:only-of-type {\n",
       "        vertical-align: middle;\n",
       "    }\n",
       "\n",
       "    .dataframe tbody tr th {\n",
       "        vertical-align: top;\n",
       "    }\n",
       "\n",
       "    .dataframe thead th {\n",
       "        text-align: right;\n",
       "    }\n",
       "</style>\n",
       "<table border=\"1\" class=\"dataframe\">\n",
       "  <thead>\n",
       "    <tr style=\"text-align: right;\">\n",
       "      <th></th>\n",
       "      <th>ArticleId</th>\n",
       "      <th>Category</th>\n",
       "    </tr>\n",
       "  </thead>\n",
       "  <tbody>\n",
       "    <tr>\n",
       "      <th>0</th>\n",
       "      <td>1018</td>\n",
       "      <td>sport</td>\n",
       "    </tr>\n",
       "    <tr>\n",
       "      <th>1</th>\n",
       "      <td>1319</td>\n",
       "      <td>entertainment</td>\n",
       "    </tr>\n",
       "    <tr>\n",
       "      <th>2</th>\n",
       "      <td>1138</td>\n",
       "      <td>sport</td>\n",
       "    </tr>\n",
       "    <tr>\n",
       "      <th>3</th>\n",
       "      <td>459</td>\n",
       "      <td>business</td>\n",
       "    </tr>\n",
       "    <tr>\n",
       "      <th>4</th>\n",
       "      <td>1020</td>\n",
       "      <td>sport</td>\n",
       "    </tr>\n",
       "  </tbody>\n",
       "</table>\n",
       "</div>"
      ],
      "text/plain": [
       "   ArticleId       Category\n",
       "0       1018          sport\n",
       "1       1319  entertainment\n",
       "2       1138          sport\n",
       "3        459       business\n",
       "4       1020          sport"
      ]
     },
     "execution_count": 41,
     "metadata": {},
     "output_type": "execute_result"
    }
   ],
   "source": [
    "pred_category = pred_category.drop(['Text'], axis=1)\n",
    "\n",
    "pred_category.head(5)"
   ]
  },
  {
   "cell_type": "code",
   "execution_count": 42,
   "id": "44d6c5ea",
   "metadata": {},
   "outputs": [
    {
     "data": {
      "text/plain": [
       "(735, 2)"
      ]
     },
     "execution_count": 42,
     "metadata": {},
     "output_type": "execute_result"
    }
   ],
   "source": [
    "pred_category.shape\n",
    "\n",
    "#pred_category.to_csv('submission.csv', index=False)"
   ]
  },
  {
   "cell_type": "markdown",
   "id": "bb04ecde",
   "metadata": {},
   "source": [
    "## Supervised ML Comparison"
   ]
  },
  {
   "cell_type": "markdown",
   "id": "bc762282",
   "metadata": {},
   "source": [
    "Supervised learning models train on labeled data and then predict labels for new data. For my supervised learning methods, I'm using a simple Logistic Regression model and a Linear SVM (support vector machine) model. Using the evalution metrics, I will compare the supervised learning performances with the NMF model that performed best."
   ]
  },
  {
   "cell_type": "code",
   "execution_count": 43,
   "id": "ce79e5c9",
   "metadata": {},
   "outputs": [],
   "source": [
    "from sklearn.linear_model import LogisticRegression\n",
    "\n",
    "from sklearn import svm"
   ]
  },
  {
   "cell_type": "code",
   "execution_count": 55,
   "id": "73dbce8e",
   "metadata": {},
   "outputs": [
    {
     "name": "stdout",
     "output_type": "stream",
     "text": [
      "Classification Report:                precision    recall  f1-score   support\n",
      "\n",
      "     business       0.95      0.98      0.96        82\n",
      "entertainment       0.98      1.00      0.99        43\n",
      "     politics       1.00      0.94      0.97        50\n",
      "        sport       0.97      1.00      0.98        65\n",
      "         tech       0.96      0.92      0.94        48\n",
      "\n",
      "     accuracy                           0.97       288\n",
      "    macro avg       0.97      0.97      0.97       288\n",
      " weighted avg       0.97      0.97      0.97       288\n",
      "\n"
     ]
    }
   ],
   "source": [
    "# Initialize tfidf vectorizer and split training data: 80% training, 20% testing.\n",
    "tfidf_s = TfidfVectorizer(ngram_range = (1, 2), max_df = 0.95, min_df = 2)\n",
    "\n",
    "features_s = tfidf_s.fit_transform(bbc_train[\"Text\"]).toarray()\n",
    "\n",
    "features_s_names = tfidf_s.get_feature_names_out()\n",
    "\n",
    "x_train, x_test, y_train, y_test = train_test_split(features_new, labels, test_size = 0.20, random_state = 42)\n",
    "\n",
    "#Initialize SVM model\n",
    "model_lr = LogisticRegression()\n",
    "\n",
    "#Fit with training data\n",
    "model_lr.fit(x_train, y_train)\n",
    "\n",
    "#predict\n",
    "ypred_lr = model_lr.predict(x_test)\n",
    "\n",
    "print(\"Classification Report:\", metrics.classification_report(y_test, ypred_lr))"
   ]
  },
  {
   "cell_type": "code",
   "execution_count": 56,
   "id": "9fd0e4f2",
   "metadata": {},
   "outputs": [
    {
     "name": "stdout",
     "output_type": "stream",
     "text": [
      "Accuracy: 0.96875\n",
      "Precision: 0.9712649345030915\n",
      "Recall: 0.9664552845528455\n",
      "Confusion Matrix: [[80  0  0  0  2]\n",
      " [ 0 43  0  0  0]\n",
      " [ 3  0 47  0  0]\n",
      " [ 0  0  0 65  0]\n",
      " [ 1  1  0  2 44]]\n"
     ]
    }
   ],
   "source": [
    "print(\"Accuracy:\", metrics.accuracy_score(y_test, ypred_lr))\n",
    "print(\"Precision:\", metrics.precision_score(y_test, ypred_lr, average = None).mean())\n",
    "print(\"Recall:\", metrics.recall_score(y_test, ypred_lr, average = None).mean())\n",
    "print(\"Confusion Matrix:\", metrics.confusion_matrix(y_test, ypred_lr))"
   ]
  },
  {
   "cell_type": "code",
   "execution_count": 48,
   "id": "2a6a141f",
   "metadata": {},
   "outputs": [
    {
     "name": "stdout",
     "output_type": "stream",
     "text": [
      "Label  0\n",
      "could got, climbed, make top, gas deal, lucrative, dokic, brothel, exchange reserve, hope reach, know right\n",
      "Label  1\n",
      "fellow uk, editor gadget, chronic energy, arm export, freeman, lawyer gregory, average closed, know exist, hope reach, falconer\n",
      "Label  2\n",
      "far easier, game fell, fund managed, fiercely, known work, hope reach, importance, lodger, authority new, film would\n",
      "Label  3\n",
      "confidentiality, also working, appearance home, according gartner, forehand, according hollywood, italy six, firm could, case could, concerned implication\n",
      "Label  4\n",
      "asante, cup wale, chinese, greater, hope reach, analyst expectation, maria, everything alright, china said, hoped return\n"
     ]
    }
   ],
   "source": [
    "display_top_words(model_lr, features_s_names, 10)"
   ]
  },
  {
   "cell_type": "code",
   "execution_count": 62,
   "id": "1e471768",
   "metadata": {},
   "outputs": [
    {
     "name": "stdout",
     "output_type": "stream",
     "text": [
      "Classification Report:                precision    recall  f1-score   support\n",
      "\n",
      "     business       0.98      0.96      0.97        82\n",
      "entertainment       0.98      1.00      0.99        43\n",
      "     politics       1.00      0.96      0.98        50\n",
      "        sport       0.98      1.00      0.99        65\n",
      "         tech       0.94      0.96      0.95        48\n",
      "\n",
      "     accuracy                           0.98       288\n",
      "    macro avg       0.98      0.98      0.98       288\n",
      " weighted avg       0.98      0.98      0.98       288\n",
      "\n"
     ]
    }
   ],
   "source": [
    "x1_train, x1_test, y1_train, y1_test = train_test_split(features_new, labels, test_size = 0.20, random_state = 42)\n",
    "\n",
    "#Initialize SVM model\n",
    "model_svm = svm.LinearSVC()\n",
    "\n",
    "#Fit with training data\n",
    "model_svm.fit(x1_train, y1_train)\n",
    "\n",
    "#predict\n",
    "ypred_svm = model_svm.predict(x1_test)\n",
    "\n",
    "print(\"Classification Report:\", metrics.classification_report(y1_test, ypred_svm))"
   ]
  },
  {
   "cell_type": "code",
   "execution_count": 63,
   "id": "83d47792",
   "metadata": {},
   "outputs": [
    {
     "name": "stdout",
     "output_type": "stream",
     "text": [
      "Accuracy: 0.9756944444444444\n",
      "Precision: 0.9752410728601205\n",
      "Recall: 0.976349593495935\n",
      "Confusion Matrix: [[79  0  0  0  3]\n",
      " [ 0 43  0  0  0]\n",
      " [ 2  0 48  0  0]\n",
      " [ 0  0  0 65  0]\n",
      " [ 0  1  0  1 46]]\n"
     ]
    }
   ],
   "source": [
    "print(\"Accuracy:\", metrics.accuracy_score(y1_test, ypred_svm))\n",
    "print(\"Precision:\", metrics.precision_score(y1_test, ypred_svm, average = None).mean())\n",
    "print(\"Recall:\", metrics.recall_score(y1_test, ypred_svm, average = None).mean())\n",
    "print(\"Confusion Matrix:\", metrics.confusion_matrix(y1_test, ypred_svm))"
   ]
  },
  {
   "cell_type": "code",
   "execution_count": 64,
   "id": "983bf59c",
   "metadata": {},
   "outputs": [
    {
     "name": "stdout",
     "output_type": "stream",
     "text": [
      "Label  0\n",
      "could got, climbed, make top, gas deal, lucrative, dokic, brothel, exchange reserve, hope reach, know right\n",
      "Label  1\n",
      "fellow uk, editor gadget, chronic energy, arm export, freeman, lawyer gregory, average closed, know exist, hope reach, falconer\n",
      "Label  2\n",
      "far easier, game fell, fund managed, fiercely, known work, hope reach, importance, lodger, authority new, film would\n",
      "Label  3\n",
      "confidentiality, also working, appearance home, according gartner, forehand, according hollywood, italy six, firm could, case could, concerned implication\n",
      "Label  4\n",
      "asante, cup wale, chinese, greater, hope reach, analyst expectation, maria, everything alright, china said, hoped return\n"
     ]
    }
   ],
   "source": [
    "display_top_words(model_svm, features_s_names, 10)"
   ]
  },
  {
   "cell_type": "markdown",
   "id": "6294ad1f",
   "metadata": {},
   "source": [
    "**Comparing Supervised models to NMF model**\n",
    "<p style=\"text-align: center; text-style: bold\"><strong>Model Performance on Predicting Labels for Training Data</strong></p>\n",
    "\n",
    "| Model                                  | Accuracy | Precision | Recall |\n",
    "|----------------------------------------|----------|-----------|--------|\n",
    "| NMF(5, kullback-leibler, mu, 0.00005)  | 0.9146   | 0.9153    | 0.9172 |\n",
    "| Logistic Regression                    | 0.9688   | 0.9713    | 0.9665 |\n",
    "| Linear SVM                             | 0.9757   | 0.9752    | 0.9763 |"
   ]
  },
  {
   "cell_type": "markdown",
   "id": "6b47c69e",
   "metadata": {},
   "source": [
    "We can see from the table that both the logistic regression model and the SVM model perform better than the NMF model. The SVM model is able to achieve a higher accuracy of 98% than both the Logistic Regression and NMF model with only using 80% of the training data. After predicting labels of the test set and submitting to Kaggle, the accuracy of the model on the test data was 98.37%."
   ]
  },
  {
   "cell_type": "code",
   "execution_count": 65,
   "id": "171688de",
   "metadata": {},
   "outputs": [],
   "source": [
    "test_features = tfidf_s.transform(bbc_test[\"Text\"]).toarray()\n",
    "\n",
    "yp_svm_test = model_svm.predict(test_features)"
   ]
  },
  {
   "cell_type": "code",
   "execution_count": 66,
   "id": "6db6cc40",
   "metadata": {},
   "outputs": [
    {
     "data": {
      "text/html": [
       "<div>\n",
       "<style scoped>\n",
       "    .dataframe tbody tr th:only-of-type {\n",
       "        vertical-align: middle;\n",
       "    }\n",
       "\n",
       "    .dataframe tbody tr th {\n",
       "        vertical-align: top;\n",
       "    }\n",
       "\n",
       "    .dataframe thead th {\n",
       "        text-align: right;\n",
       "    }\n",
       "</style>\n",
       "<table border=\"1\" class=\"dataframe\">\n",
       "  <thead>\n",
       "    <tr style=\"text-align: right;\">\n",
       "      <th></th>\n",
       "      <th>ArticleId</th>\n",
       "      <th>Category</th>\n",
       "    </tr>\n",
       "  </thead>\n",
       "  <tbody>\n",
       "    <tr>\n",
       "      <th>0</th>\n",
       "      <td>1018</td>\n",
       "      <td>sport</td>\n",
       "    </tr>\n",
       "    <tr>\n",
       "      <th>1</th>\n",
       "      <td>1319</td>\n",
       "      <td>entertainment</td>\n",
       "    </tr>\n",
       "    <tr>\n",
       "      <th>2</th>\n",
       "      <td>1138</td>\n",
       "      <td>sport</td>\n",
       "    </tr>\n",
       "    <tr>\n",
       "      <th>3</th>\n",
       "      <td>459</td>\n",
       "      <td>business</td>\n",
       "    </tr>\n",
       "    <tr>\n",
       "      <th>4</th>\n",
       "      <td>1020</td>\n",
       "      <td>sport</td>\n",
       "    </tr>\n",
       "  </tbody>\n",
       "</table>\n",
       "</div>"
      ],
      "text/plain": [
       "   ArticleId       Category\n",
       "0       1018          sport\n",
       "1       1319  entertainment\n",
       "2       1138          sport\n",
       "3        459       business\n",
       "4       1020          sport"
      ]
     },
     "execution_count": 66,
     "metadata": {},
     "output_type": "execute_result"
    }
   ],
   "source": [
    "svm_category = bbc_test[:]\n",
    "svm_category['ArticleId'] = bbc_test['ArticleId']\n",
    "svm_category['Category'] = yp_svm_test\n",
    "svm_category = svm_category.drop(['Text'], axis=1)\n",
    "pred_category.head(5)"
   ]
  },
  {
   "cell_type": "code",
   "execution_count": 67,
   "id": "e32d4bb4",
   "metadata": {},
   "outputs": [],
   "source": [
    "#svm_category.to_csv('submission1.csv', index=False)"
   ]
  },
  {
   "cell_type": "markdown",
   "id": "9fcd52b9",
   "metadata": {},
   "source": [
    "### Comparison with NMF model"
   ]
  },
  {
   "cell_type": "markdown",
   "id": "a8e909dc",
   "metadata": {},
   "source": [
    "From the results above, both the SVM model and the logistic regression model were able to predict labels of the training data with an accuracy above 97%. This is much better than the NMF model which was only able to achieve an accuracy of 95%. \n",
    "\n",
    "When decreasing the train data set size, the SVM model required only 75% of the training data for a high accuracy of 97%, but the NMF model's accuracy decreased to 91%, even when using 80% of train data. The accuracy of logistic regression dropped to 95% when using only 75% of the data, but it still does better than NMF. The NMF model required the whole train dataset, only to achieve an accuracy of 91%.\n",
    "\n",
    "When predicting labels of the test data, the SVM model(Accuracy = 98%) did significantly better than the NMF model(Accuracy = 64%). "
   ]
  },
  {
   "cell_type": "markdown",
   "id": "6b1ce6e7",
   "metadata": {},
   "source": [
    "## Final Conclusion"
   ]
  },
  {
   "cell_type": "markdown",
   "id": "01797cef",
   "metadata": {},
   "source": [
    "In summary of the project, first we cleaned and then visualy explored the dataset to find some trends. The categories of sport and business had the highest number of articles, while most politics articles had the most words. We then applied some basic text preprocessing techniques like removing punctuation and stopwords and converting words to root form. Using TF-IDF Vectorizer, we converted the cleaned and preprocessed dataset into feature vectors. Using these features vectors, we trained the NMF model using different hyperparameters. After changing the TF-IDF vectorizer parameters as well, we found that the NMF model with the parameters with (n_components = 5, beta_loss = 'kullback-leibler', solver = 'mu', alpha_W = 0.00005) had the best training accuracy, but a poor test accuracy. We then trained a supervised learning model to compare how well it can predict the train and test labels. \n",
    "\n",
    "In my analysis, I found that supervised learning approach(Linear SVM) was able to classify the categories of the text articles much better than the unsupervised learning approach(NMF). It was more data efficient as it required only 75-80% of the training data to achieve a high accuracy. "
   ]
  },
  {
   "cell_type": "markdown",
   "id": "0999bdd5",
   "metadata": {},
   "source": [
    "## References\n",
    "\n",
    "1. https://stackoverflow.com/questions/47557563/lemmatization-of-all-pandas-cells\n",
    "2. https://www.kaggle.com/code/astraz93/beginners-tokenization-stemming-and-lemmatization\n",
    "3. https://towardsdatascience.com/text-preprocessing-in-natural-language-processing-using-python-6113ff5decd8\n",
    "4. https://cloud.google.com/blog/products/ai-machine-learning/problem-solving-with-ml-automatic-document-classification\n",
    "5. https://neptune.ai/blog/exploratory-data-analysis-natural-language-processing-tools\n",
    "6. https://enjoymachinelearning.com/blog/countvectorizer-vs-tfidfvectorizer/\n",
    "7. https://towardsdatascience.com/tf-idf-simplified-aba19d5f5530\n",
    "8. https://www.capitalone.com/tech/machine-learning/understanding-tf-idf/\n",
    "9. https://pub.towardsai.net/topic-modeling-with-nmf-for-user-reviews-classification-65913d0b44fe\n",
    "10. https://towardsdatascience.com/topic-modeling-quora-questions-with-lda-nmf-aff8dce5e1dd\n",
    "11. https://www.kdnuggets.com/2022/07/using-numpy-argmax.html\n",
    "12. https://forums.fast.ai/t/why-using-np-argmax-for-getting-predictions/14937\n",
    "13. https://towardsdatascience.com/content-based-recommender-systems-28a1dbd858f5\n",
    "14. https://medium.com/@bedigunjit/simple-guide-to-text-classification-nlp-using-svm-and-naive-bayes-with-python-421db3a72d34\n",
    "15. https://medium.com/@rnbrown/more-nlp-with-sklearns-countvectorizer-add577a0b8c8"
   ]
  },
  {
   "cell_type": "code",
   "execution_count": null,
   "id": "f094dcf5",
   "metadata": {},
   "outputs": [],
   "source": []
  }
 ],
 "metadata": {
  "kernelspec": {
   "display_name": "Python 3 (ipykernel)",
   "language": "python",
   "name": "python3"
  },
  "language_info": {
   "codemirror_mode": {
    "name": "ipython",
    "version": 3
   },
   "file_extension": ".py",
   "mimetype": "text/x-python",
   "name": "python",
   "nbconvert_exporter": "python",
   "pygments_lexer": "ipython3",
   "version": "3.10.9"
  }
 },
 "nbformat": 4,
 "nbformat_minor": 5
}
