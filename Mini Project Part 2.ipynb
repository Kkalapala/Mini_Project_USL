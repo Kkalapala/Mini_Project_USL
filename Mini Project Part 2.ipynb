{
 "cells": [
  {
   "cell_type": "markdown",
   "id": "f6ce41d6",
   "metadata": {},
   "source": [
    "## Part 2: NMF on Movie Data"
   ]
  },
  {
   "cell_type": "markdown",
   "id": "83739ab9",
   "metadata": {},
   "source": [
    "**1. Load the movie ratings data (as in the HW3-recommender-system) and use matrix factorization technique(s) and predict the missing ratings from the test data. Measure the RMSE. You should use sklearn library.** "
   ]
  },
  {
   "cell_type": "code",
   "execution_count": 1,
   "id": "8269b279",
   "metadata": {},
   "outputs": [],
   "source": [
    "import pandas as pd\n",
    "import matplotlib.pyplot as plt\n",
    "import numpy as np\n",
    "\n",
    "from scipy.sparse import coo_matrix, csr_matrix\n",
    "from collections import namedtuple\n",
    "from sklearn.decomposition import NMF"
   ]
  },
  {
   "cell_type": "code",
   "execution_count": 2,
   "id": "df02c86d",
   "metadata": {},
   "outputs": [],
   "source": [
    "train = pd.read_csv(\"C:/Users/venuk/Desktop/dtsa-5510/Mini/MovieData/train.csv\")\n",
    "test = pd.read_csv(\"C:/Users/venuk/Desktop/dtsa-5510/Mini/MovieData/test.csv\")\n",
    "MV_users = pd.read_csv(\"C:/Users/venuk/Desktop/dtsa-5510/Mini/MovieData/users.csv\")\n",
    "MV_movies = pd.read_csv(\"C:/Users/venuk/Desktop/dtsa-5510/Mini/MovieData/movies.csv\")"
   ]
  },
  {
   "cell_type": "code",
   "execution_count": 3,
   "id": "d37c8fbc",
   "metadata": {},
   "outputs": [],
   "source": [
    "Data = namedtuple('Data', ['users','movies','train','test'])\n",
    "data = Data(MV_users, MV_movies, train, test)"
   ]
  },
  {
   "cell_type": "code",
   "execution_count": 4,
   "id": "964d3d85",
   "metadata": {},
   "outputs": [],
   "source": [
    "#This RecSys Class is from the HW3 assignment\n",
    "class RecSys():\n",
    "    def __init__(self,data):\n",
    "        self.data=data\n",
    "        self.allusers = list(self.data.users['uID'])\n",
    "        self.allmovies = list(self.data.movies['mID'])\n",
    "        self.genres = list(self.data.movies.columns.drop(['mID', 'title', 'year']))\n",
    "        self.mid2idx = dict(zip(self.data.movies.mID,list(range(len(self.data.movies)))))\n",
    "        self.uid2idx = dict(zip(self.data.users.uID,list(range(len(self.data.users)))))\n",
    "        self.Mr=self.rating_matrix()\n",
    "        \n",
    "    def rating_matrix(self):\n",
    "        \"\"\"\n",
    "        Convert the rating matrix to numpy array of shape (#allusers,#allmovies)\n",
    "        \"\"\"\n",
    "        ind_movie = [self.mid2idx[x] for x in self.data.train.mID] \n",
    "        ind_user = [self.uid2idx[x] for x in self.data.train.uID]\n",
    "        rating_train = list(train.rating)\n",
    "        return np.array(coo_matrix((rating_train, (ind_user, ind_movie)), shape=(len(self.allusers), len(self.allmovies))).toarray())\n",
    "    \n",
    "    def rmse(self,yp):\n",
    "        yp[np.isnan(yp)]=3 #In case there is nan values in prediction, it will impute to 3.\n",
    "        yt=np.array(self.data.test.rating)\n",
    "        return np.sqrt(((yt-yp)**2).mean())"
   ]
  },
  {
   "cell_type": "code",
   "execution_count": 5,
   "id": "174bccf0",
   "metadata": {},
   "outputs": [],
   "source": [
    "rec = RecSys(data)\n",
    "\n",
    "#Getting the rating matrix of the train data\n",
    "tr_matrix = rec.Mr\n",
    "\n",
    "#Initialize the nmf model\n",
    "nmf_model = NMF(n_components = 20, init  = \"nndsvda\", max_iter = 1000, random_state = 42)\n",
    "\n",
    "#W Matrix\n",
    "user_features = nmf_model.fit_transform(tr_matrix)\n",
    "\n",
    "#H Matrix\n",
    "movie_features = nmf_model.components_"
   ]
  },
  {
   "cell_type": "code",
   "execution_count": 9,
   "id": "d9c550c0",
   "metadata": {},
   "outputs": [
    {
     "name": "stdout",
     "output_type": "stream",
     "text": [
      "W-matrix: [[0.01570787 0.         0.         ... 0.         0.         0.        ]\n",
      " [0.16809181 0.         0.         ... 0.19401762 0.46401632 0.07002243]\n",
      " [0.         0.         0.         ... 0.22259054 0.00480161 0.        ]\n",
      " ...\n",
      " [0.00316293 0.         0.00107228 ... 0.         0.         0.00885329]\n",
      " [0.         0.48581206 0.         ... 0.         0.         0.20872088]\n",
      " [0.15615691 0.22701272 0.41014161 ... 0.00595943 0.01966774 0.        ]]\n",
      "H.T-matrix: [[0.         0.34646931 0.         ... 0.13803215 0.         0.15213657]\n",
      " [0.         0.         0.         ... 0.08414881 0.         0.        ]\n",
      " [0.         0.         0.         ... 0.1151299  0.20674001 0.89444953]\n",
      " ...\n",
      " [0.10626587 0.         0.         ... 0.         0.         0.        ]\n",
      " [2.59385428 0.17258454 0.05412258 ... 0.         0.         0.        ]\n",
      " [0.         0.         0.49137561 ... 0.         0.         0.        ]]\n"
     ]
    }
   ],
   "source": [
    "print(\"W-matrix:\", user_features)\n",
    "print(\"H.T-matrix:\", movie_features)"
   ]
  },
  {
   "cell_type": "code",
   "execution_count": 6,
   "id": "ed08f934",
   "metadata": {},
   "outputs": [],
   "source": [
    "# Adjusting the predict function for NMF model\n",
    "# Reference https://stackoverflow.com/questions/49341132/using-nmf-for-generating-recommendations\n",
    "def predict_ratings(W, H):\n",
    "    uid = [rec.uid2idx[u_id] for u_id in data.test['uID']]\n",
    "    mid = [rec.mid2idx[m_id] for m_id in data.test['mID']]\n",
    "    predicted_ratings = np.zeros(len(uid))\n",
    "    for i in range(len(uid)):\n",
    "        predicted_ratings[i] = np.dot(W[uid[i]], H.T[mid[i]])\n",
    "    return predicted_ratings"
   ]
  },
  {
   "cell_type": "code",
   "execution_count": 7,
   "id": "8f7b2057",
   "metadata": {},
   "outputs": [
    {
     "data": {
      "text/plain": [
       "2.860841849313365"
      ]
     },
     "execution_count": 7,
     "metadata": {},
     "output_type": "execute_result"
    }
   ],
   "source": [
    "from sklearn import metrics\n",
    "#Predict ratings for test data\n",
    "r_pred  = predict_ratings(user_features, movie_features)\n",
    "\n",
    "#Calculate the RMSE score\n",
    "rec.rmse(r_pred)"
   ]
  },
  {
   "cell_type": "markdown",
   "id": "3bad20a4",
   "metadata": {},
   "source": [
    "By definition, RMSE is the standard deviation of the prediction errors. It is a measurement of how far the predicted value deviates from the observed value. If the RMSE value is small, it means that the model is good at predicting the observed data. If it is large, it means that that the model is unable to predict the observed data and is deviating.\n",
    "\n",
    "In HW3, the RMSE values for the simple baseline and similarity-based methods were approximately 1. The NMF model's RMSE value is 2.86 is relatively larger. This means that the model is unable to extract important features to be able to predict accurately.\n",
    "\n",
    "*Reference: https://towardsdatascience.com/what-does-rmse-really-mean-806b65f2e48e*"
   ]
  },
  {
   "cell_type": "markdown",
   "id": "5293114a",
   "metadata": {},
   "source": [
    "**2. Discuss the results and why sklearn's non-negative matrix facorization library did not work well compared to simple baseline or similarity-based methods we’ve done in Module 3. Can you suggest a way(s) to fix it?**"
   ]
  },
  {
   "cell_type": "markdown",
   "id": "75ef1f86",
   "metadata": {},
   "source": [
    "After comparing the performance of the NMF model with the simple baseline and similarity-based methods used in HW3 - Recommender System, the NMF model did worse than the baseline models, having a RMSE value of ~ 2.8608.\n",
    "\n",
    "A lot of the ratings for a user were 0, so this would affect how the NMF model predicts ratings as we're taking the dot product of the two smaller matrices of features and components. Having less data can make it difficult for the NMF model to extract features to use to approximate similar rated items and won't be able to recommend movies well to the user.\n",
    "\n",
    "A few ways to improve the performance of the NMF model is to replace zeroes in the rating matrix with each user's average rating or by normalizing the users' ratings. Removing the zeroes might decrease the amount of data available for training, so it is better to replace them."
   ]
  },
  {
   "cell_type": "code",
   "execution_count": null,
   "id": "31d5e5ac",
   "metadata": {},
   "outputs": [],
   "source": []
  }
 ],
 "metadata": {
  "kernelspec": {
   "display_name": "Python 3 (ipykernel)",
   "language": "python",
   "name": "python3"
  },
  "language_info": {
   "codemirror_mode": {
    "name": "ipython",
    "version": 3
   },
   "file_extension": ".py",
   "mimetype": "text/x-python",
   "name": "python",
   "nbconvert_exporter": "python",
   "pygments_lexer": "ipython3",
   "version": "3.9.12"
  }
 },
 "nbformat": 4,
 "nbformat_minor": 5
}
